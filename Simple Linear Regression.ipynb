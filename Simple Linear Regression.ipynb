{
 "cells": [
  {
   "cell_type": "markdown",
   "id": "bd43978b-3253-4535-be56-cca6755f300d",
   "metadata": {},
   "source": [
    "# Simple Linear Regression"
   ]
  },
  {
   "cell_type": "code",
   "execution_count": 1,
   "id": "212512f1-0661-4618-91f1-3f67696211ba",
   "metadata": {},
   "outputs": [],
   "source": [
    "import numpy as np\n",
    "import torch\n",
    "from torch.autograd import Variable\n",
    "import matplotlib.pyplot as plt"
   ]
  },
  {
   "cell_type": "markdown",
   "id": "74478c65-9763-45b7-ac92-f7536faea250",
   "metadata": {},
   "source": [
    "## Data Generation Formula"
   ]
  },
  {
   "cell_type": "markdown",
   "id": "80deb719-d132-45b3-a6e5-acef362557a0",
   "metadata": {},
   "source": [
    "$x^{2}$ + 2x + 4"
   ]
  },
  {
   "cell_type": "markdown",
   "id": "dc1f7dcb-10a4-461c-9804-33cbca9b0474",
   "metadata": {},
   "source": [
    "The following variables define the breadth of the generated data sets used for training:"
   ]
  },
  {
   "cell_type": "code",
   "execution_count": 2,
   "id": "c62929ae-536d-4cf6-9258-c51a5c807f68",
   "metadata": {},
   "outputs": [
    {
     "name": "stdout",
     "output_type": "stream",
     "text": [
      "Is GPU Enabled?  False\n"
     ]
    }
   ],
   "source": [
    "sampleSetSize = 100000\n",
    "startX = -100\n",
    "xInc = 0.1\n",
    "validationSetRatio = 0.2\n",
    "\n",
    "# Enable GPU\n",
    "enableGpu = torch.cuda.is_available()\n",
    "print(\"Is GPU Enabled?  \" + str(enableGpu))"
   ]
  },
  {
   "cell_type": "markdown",
   "id": "755ec8eb-eaa7-4dfb-b8db-9040967830cb",
   "metadata": {},
   "source": [
    "## Generate Sample Data"
   ]
  },
  {
   "cell_type": "code",
   "execution_count": 3,
   "id": "e3a939f6-6ab7-45fb-8d1b-c8ec049015ff",
   "metadata": {},
   "outputs": [],
   "source": [
    "sampleSet_x = np.zeros(sampleSetSize)\n",
    "sampleSet_y = np.zeros(sampleSetSize)\n",
    "x = startX\n",
    "for i in range(0, sampleSetSize):\n",
    "    sampleSet_x[i] = x\n",
    "    sampleSet_y[i] = (x * x) + 2 * x + 4\n",
    "    x = x + xInc\n",
    "trainSize = int(sampleSetSize * (1.0 - validationSetRatio))\n",
    "train_x, validation_x = sampleSet_x[:trainSize].reshape(-1, 1), sampleSet_x[trainSize:].reshape(-1, 1)\n",
    "train_y, validation_y = sampleSet_y[:trainSize].reshape(-1, 1), sampleSet_y[trainSize:].reshape(-1, 1)"
   ]
  },
  {
   "cell_type": "markdown",
   "id": "10caa626-da9b-4c66-8d49-449fe89d0246",
   "metadata": {},
   "source": [
    "## Define Model Architecture"
   ]
  },
  {
   "cell_type": "code",
   "execution_count": 4,
   "id": "a87ea8ae-956d-4d59-8eb8-7f831fde36bd",
   "metadata": {},
   "outputs": [],
   "source": [
    "class linearRegression(torch.nn.Module):\n",
    "    def __init__(self, inputSize, outputSize):\n",
    "        super(linearRegression, self).__init__()\n",
    "        self.linear = torch.nn.Linear(inputSize, outputSize)\n",
    "\n",
    "    def forward(self, x):\n",
    "        out = self.linear(x)\n",
    "        return out"
   ]
  },
  {
   "cell_type": "code",
   "execution_count": 5,
   "id": "d7799b21-bf1b-4d6e-a9d3-13352976b071",
   "metadata": {},
   "outputs": [],
   "source": [
    "inputDim = 1        # takes variable 'x' \n",
    "outputDim = 1       # takes variable 'y'\n",
    "learningRate = 0.01 \n",
    "epochs = 100\n",
    "\n",
    "model = linearRegression(inputDim, outputDim)\n",
    "if enableGpu:\n",
    "    model.cuda()"
   ]
  },
  {
   "cell_type": "code",
   "execution_count": 6,
   "id": "948ba53b-e2b6-45ef-8579-8453b89537f0",
   "metadata": {},
   "outputs": [],
   "source": [
    "criterion = torch.nn.MSELoss() \n",
    "optimizer = torch.optim.SGD(model.parameters(), lr=learningRate)"
   ]
  },
  {
   "cell_type": "markdown",
   "id": "a51f08a5-ff17-4a7c-bab7-fb61a6f59a4f",
   "metadata": {},
   "source": [
    "## Train the Model"
   ]
  },
  {
   "cell_type": "code",
   "execution_count": 7,
   "id": "fd19f12e-23f0-4d77-9bd3-4a5c95fbd723",
   "metadata": {},
   "outputs": [
    {
     "name": "stdout",
     "output_type": "stream",
     "text": [
      "tensor(7.6993e+14, grad_fn=<MseLossBackward0>)\n",
      "epoch 0, loss 769926642008064.0\n",
      "tensor(1.2185e+26, grad_fn=<MseLossBackward0>)\n",
      "epoch 1, loss 1.218509087628362e+26\n",
      "tensor(inf, grad_fn=<MseLossBackward0>)\n",
      "epoch 2, loss inf\n",
      "tensor(inf, grad_fn=<MseLossBackward0>)\n",
      "epoch 3, loss inf\n",
      "tensor(inf, grad_fn=<MseLossBackward0>)\n",
      "epoch 4, loss inf\n",
      "tensor(inf, grad_fn=<MseLossBackward0>)\n",
      "epoch 5, loss inf\n",
      "tensor(inf, grad_fn=<MseLossBackward0>)\n",
      "epoch 6, loss inf\n",
      "tensor(nan, grad_fn=<MseLossBackward0>)\n",
      "epoch 7, loss nan\n",
      "tensor(nan, grad_fn=<MseLossBackward0>)\n",
      "epoch 8, loss nan\n",
      "tensor(nan, grad_fn=<MseLossBackward0>)\n",
      "epoch 9, loss nan\n",
      "tensor(nan, grad_fn=<MseLossBackward0>)\n",
      "epoch 10, loss nan\n",
      "tensor(nan, grad_fn=<MseLossBackward0>)\n",
      "epoch 11, loss nan\n",
      "tensor(nan, grad_fn=<MseLossBackward0>)\n",
      "epoch 12, loss nan\n",
      "tensor(nan, grad_fn=<MseLossBackward0>)\n",
      "epoch 13, loss nan\n",
      "tensor(nan, grad_fn=<MseLossBackward0>)\n",
      "epoch 14, loss nan\n",
      "tensor(nan, grad_fn=<MseLossBackward0>)\n",
      "epoch 15, loss nan\n",
      "tensor(nan, grad_fn=<MseLossBackward0>)\n",
      "epoch 16, loss nan\n",
      "tensor(nan, grad_fn=<MseLossBackward0>)\n",
      "epoch 17, loss nan\n",
      "tensor(nan, grad_fn=<MseLossBackward0>)\n",
      "epoch 18, loss nan\n",
      "tensor(nan, grad_fn=<MseLossBackward0>)\n",
      "epoch 19, loss nan\n",
      "tensor(nan, grad_fn=<MseLossBackward0>)\n",
      "epoch 20, loss nan\n",
      "tensor(nan, grad_fn=<MseLossBackward0>)\n",
      "epoch 21, loss nan\n",
      "tensor(nan, grad_fn=<MseLossBackward0>)\n",
      "epoch 22, loss nan\n",
      "tensor(nan, grad_fn=<MseLossBackward0>)\n",
      "epoch 23, loss nan\n",
      "tensor(nan, grad_fn=<MseLossBackward0>)\n",
      "epoch 24, loss nan\n",
      "tensor(nan, grad_fn=<MseLossBackward0>)\n",
      "epoch 25, loss nan\n",
      "tensor(nan, grad_fn=<MseLossBackward0>)\n",
      "epoch 26, loss nan\n",
      "tensor(nan, grad_fn=<MseLossBackward0>)\n",
      "epoch 27, loss nan\n",
      "tensor(nan, grad_fn=<MseLossBackward0>)\n",
      "epoch 28, loss nan\n",
      "tensor(nan, grad_fn=<MseLossBackward0>)\n",
      "epoch 29, loss nan\n",
      "tensor(nan, grad_fn=<MseLossBackward0>)\n",
      "epoch 30, loss nan\n",
      "tensor(nan, grad_fn=<MseLossBackward0>)\n",
      "epoch 31, loss nan\n",
      "tensor(nan, grad_fn=<MseLossBackward0>)\n",
      "epoch 32, loss nan\n",
      "tensor(nan, grad_fn=<MseLossBackward0>)\n",
      "epoch 33, loss nan\n",
      "tensor(nan, grad_fn=<MseLossBackward0>)\n",
      "epoch 34, loss nan\n",
      "tensor(nan, grad_fn=<MseLossBackward0>)\n",
      "epoch 35, loss nan\n",
      "tensor(nan, grad_fn=<MseLossBackward0>)\n",
      "epoch 36, loss nan\n",
      "tensor(nan, grad_fn=<MseLossBackward0>)\n",
      "epoch 37, loss nan\n",
      "tensor(nan, grad_fn=<MseLossBackward0>)\n",
      "epoch 38, loss nan\n",
      "tensor(nan, grad_fn=<MseLossBackward0>)\n",
      "epoch 39, loss nan\n",
      "tensor(nan, grad_fn=<MseLossBackward0>)\n",
      "epoch 40, loss nan\n",
      "tensor(nan, grad_fn=<MseLossBackward0>)\n",
      "epoch 41, loss nan\n",
      "tensor(nan, grad_fn=<MseLossBackward0>)\n",
      "epoch 42, loss nan\n",
      "tensor(nan, grad_fn=<MseLossBackward0>)\n",
      "epoch 43, loss nan\n",
      "tensor(nan, grad_fn=<MseLossBackward0>)\n",
      "epoch 44, loss nan\n",
      "tensor(nan, grad_fn=<MseLossBackward0>)\n",
      "epoch 45, loss nan\n",
      "tensor(nan, grad_fn=<MseLossBackward0>)\n",
      "epoch 46, loss nan\n",
      "tensor(nan, grad_fn=<MseLossBackward0>)\n",
      "epoch 47, loss nan\n",
      "tensor(nan, grad_fn=<MseLossBackward0>)\n",
      "epoch 48, loss nan\n",
      "tensor(nan, grad_fn=<MseLossBackward0>)\n",
      "epoch 49, loss nan\n",
      "tensor(nan, grad_fn=<MseLossBackward0>)\n",
      "epoch 50, loss nan\n",
      "tensor(nan, grad_fn=<MseLossBackward0>)\n",
      "epoch 51, loss nan\n",
      "tensor(nan, grad_fn=<MseLossBackward0>)\n",
      "epoch 52, loss nan\n",
      "tensor(nan, grad_fn=<MseLossBackward0>)\n",
      "epoch 53, loss nan\n",
      "tensor(nan, grad_fn=<MseLossBackward0>)\n",
      "epoch 54, loss nan\n",
      "tensor(nan, grad_fn=<MseLossBackward0>)\n",
      "epoch 55, loss nan\n",
      "tensor(nan, grad_fn=<MseLossBackward0>)\n",
      "epoch 56, loss nan\n",
      "tensor(nan, grad_fn=<MseLossBackward0>)\n",
      "epoch 57, loss nan\n",
      "tensor(nan, grad_fn=<MseLossBackward0>)\n",
      "epoch 58, loss nan\n",
      "tensor(nan, grad_fn=<MseLossBackward0>)\n",
      "epoch 59, loss nan\n",
      "tensor(nan, grad_fn=<MseLossBackward0>)\n",
      "epoch 60, loss nan\n",
      "tensor(nan, grad_fn=<MseLossBackward0>)\n",
      "epoch 61, loss nan\n",
      "tensor(nan, grad_fn=<MseLossBackward0>)\n",
      "epoch 62, loss nan\n",
      "tensor(nan, grad_fn=<MseLossBackward0>)\n",
      "epoch 63, loss nan\n",
      "tensor(nan, grad_fn=<MseLossBackward0>)\n",
      "epoch 64, loss nan\n",
      "tensor(nan, grad_fn=<MseLossBackward0>)\n",
      "epoch 65, loss nan\n",
      "tensor(nan, grad_fn=<MseLossBackward0>)\n",
      "epoch 66, loss nan\n",
      "tensor(nan, grad_fn=<MseLossBackward0>)\n",
      "epoch 67, loss nan\n",
      "tensor(nan, grad_fn=<MseLossBackward0>)\n",
      "epoch 68, loss nan\n",
      "tensor(nan, grad_fn=<MseLossBackward0>)\n",
      "epoch 69, loss nan\n",
      "tensor(nan, grad_fn=<MseLossBackward0>)\n",
      "epoch 70, loss nan\n",
      "tensor(nan, grad_fn=<MseLossBackward0>)\n",
      "epoch 71, loss nan\n",
      "tensor(nan, grad_fn=<MseLossBackward0>)\n",
      "epoch 72, loss nan\n",
      "tensor(nan, grad_fn=<MseLossBackward0>)\n",
      "epoch 73, loss nan\n",
      "tensor(nan, grad_fn=<MseLossBackward0>)\n",
      "epoch 74, loss nan\n",
      "tensor(nan, grad_fn=<MseLossBackward0>)\n",
      "epoch 75, loss nan\n",
      "tensor(nan, grad_fn=<MseLossBackward0>)\n",
      "epoch 76, loss nan\n",
      "tensor(nan, grad_fn=<MseLossBackward0>)\n",
      "epoch 77, loss nan\n",
      "tensor(nan, grad_fn=<MseLossBackward0>)\n",
      "epoch 78, loss nan\n",
      "tensor(nan, grad_fn=<MseLossBackward0>)\n",
      "epoch 79, loss nan\n",
      "tensor(nan, grad_fn=<MseLossBackward0>)\n",
      "epoch 80, loss nan\n",
      "tensor(nan, grad_fn=<MseLossBackward0>)\n",
      "epoch 81, loss nan\n",
      "tensor(nan, grad_fn=<MseLossBackward0>)\n",
      "epoch 82, loss nan\n",
      "tensor(nan, grad_fn=<MseLossBackward0>)\n",
      "epoch 83, loss nan\n",
      "tensor(nan, grad_fn=<MseLossBackward0>)\n",
      "epoch 84, loss nan\n",
      "tensor(nan, grad_fn=<MseLossBackward0>)\n",
      "epoch 85, loss nan\n",
      "tensor(nan, grad_fn=<MseLossBackward0>)\n",
      "epoch 86, loss nan\n",
      "tensor(nan, grad_fn=<MseLossBackward0>)\n",
      "epoch 87, loss nan\n",
      "tensor(nan, grad_fn=<MseLossBackward0>)\n",
      "epoch 88, loss nan\n",
      "tensor(nan, grad_fn=<MseLossBackward0>)\n",
      "epoch 89, loss nan\n",
      "tensor(nan, grad_fn=<MseLossBackward0>)\n",
      "epoch 90, loss nan\n",
      "tensor(nan, grad_fn=<MseLossBackward0>)\n",
      "epoch 91, loss nan\n",
      "tensor(nan, grad_fn=<MseLossBackward0>)\n",
      "epoch 92, loss nan\n",
      "tensor(nan, grad_fn=<MseLossBackward0>)\n",
      "epoch 93, loss nan\n",
      "tensor(nan, grad_fn=<MseLossBackward0>)\n",
      "epoch 94, loss nan\n",
      "tensor(nan, grad_fn=<MseLossBackward0>)\n",
      "epoch 95, loss nan\n",
      "tensor(nan, grad_fn=<MseLossBackward0>)\n",
      "epoch 96, loss nan\n",
      "tensor(nan, grad_fn=<MseLossBackward0>)\n",
      "epoch 97, loss nan\n",
      "tensor(nan, grad_fn=<MseLossBackward0>)\n",
      "epoch 98, loss nan\n",
      "tensor(nan, grad_fn=<MseLossBackward0>)\n",
      "epoch 99, loss nan\n"
     ]
    }
   ],
   "source": [
    "for epoch in range(epochs):\n",
    "    # Converting inputs and labels to Variable\n",
    "    if enableGpu:\n",
    "        inputs = Variable(torch.from_numpy(train_x).type(torch.FloatTensor).cuda())\n",
    "        labels = Variable(torch.from_numpy(train_y).type(torch.FloatTensor).cuda())\n",
    "    else:\n",
    "        inputs = Variable(torch.from_numpy(train_x).type(torch.FloatTensor))\n",
    "        labels = Variable(torch.from_numpy(train_y).type(torch.FloatTensor))\n",
    "\n",
    "    # Clear gradient buffers because we don't want any gradient from previous epoch to carry forward, dont want to cummulate gradients\n",
    "    optimizer.zero_grad()\n",
    "\n",
    "    # get output from the model, given the inputs\n",
    "    outputs = model(inputs)\n",
    "\n",
    "    # get loss for the predicted output\n",
    "    loss = criterion(outputs, labels)\n",
    "    print(loss)\n",
    "    # get gradients w.r.t to parameters\n",
    "    loss.backward()\n",
    "\n",
    "    # update parameters\n",
    "    optimizer.step()\n",
    "\n",
    "    print('epoch {}, loss {}'.format(epoch, loss.item()))"
   ]
  },
  {
   "cell_type": "markdown",
   "id": "5aed22bc-3caf-42f6-9942-4c84382a1c18",
   "metadata": {},
   "source": [
    "## Plot the model"
   ]
  },
  {
   "cell_type": "code",
   "execution_count": 8,
   "id": "ee472933-e86b-4529-b0dc-8d11be8cfcff",
   "metadata": {},
   "outputs": [
    {
     "name": "stdout",
     "output_type": "stream",
     "text": [
      "[[nan]\n",
      " [nan]\n",
      " [nan]\n",
      " ...\n",
      " [nan]\n",
      " [nan]\n",
      " [nan]]\n"
     ]
    },
    {
     "data": {
      "image/png": "[encoded data removed]",
      "text/plain": [
       "<Figure size 640x480 with 1 Axes>"
      ]
     },
     "metadata": {},
     "output_type": "display_data"
    }
   ],
   "source": [
    "with torch.no_grad(): # we don't need gradients in the testing phase\n",
    "    if enableGpu:\n",
    "        predicted = model(Variable(torch.from_numpy(train_x).type(torch.FloatTensor).cuda())).cpu().data.numpy()\n",
    "    else:\n",
    "        predicted = model(Variable(torch.from_numpy(train_x).type(torch.FloatTensor))).data.numpy()\n",
    "    print(predicted)\n",
    "\n",
    "plt.clf()\n",
    "plt.plot(train_x, train_y, 'go', label='True data', alpha=0.5)\n",
    "plt.plot(train_x, predicted, '--', label='Predictions', alpha=0.5)\n",
    "plt.legend(loc='best')\n",
    "plt.show()"
   ]
  },
  {
   "cell_type": "code",
   "execution_count": null,
   "id": "03c2cb84-9cc9-432a-b9fe-9010856bed15",
   "metadata": {},
   "outputs": [],
   "source": []
  },
  {
   "cell_type": "code",
   "execution_count": null,
   "id": "afbf89b1-89ea-4185-b875-652f238b1107",
   "metadata": {},
   "outputs": [],
   "source": []
  }
 ],
 "metadata": {
  "kernelspec": {
   "display_name": "Python 3 (ipykernel)",
   "language": "python",
   "name": "python3"
  },
  "language_info": {
   "codemirror_mode": {
    "name": "ipython",
    "version": 3
   },
   "file_extension": ".py",
   "mimetype": "text/x-python",
   "name": "python",
   "nbconvert_exporter": "python",
   "pygments_lexer": "ipython3",
   "version": "3.10.13"
  }
 },
 "nbformat": 4,
 "nbformat_minor": 5
}
